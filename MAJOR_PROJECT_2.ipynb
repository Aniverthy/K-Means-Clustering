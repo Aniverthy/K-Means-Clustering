{
  "nbformat": 4,
  "nbformat_minor": 0,
  "metadata": {
    "colab": {
      "name": "MAJOR PROJECT 2.ipynb",
      "provenance": [],
      "collapsed_sections": [],
      "authorship_tag": "ABX9TyMWnnyIHjJi37tXrj7KdgJF",
      "include_colab_link": true
    },
    "kernelspec": {
      "name": "python3",
      "display_name": "Python 3"
    },
    "language_info": {
      "name": "python"
    }
  },
  "cells": [
    {
      "cell_type": "markdown",
      "metadata": {
        "id": "view-in-github",
        "colab_type": "text"
      },
      "source": [
        "<a href=\"https://colab.research.google.com/github/Aniverthy/K-Means-Clustering/blob/main/MAJOR_PROJECT_2.ipynb\" target=\"_parent\"><img src=\"https://colab.research.google.com/assets/colab-badge.svg\" alt=\"Open In Colab\"/></a>"
      ]
    },
    {
      "cell_type": "code",
      "source": [
        "# 2.MAJOR PROJECT 2\n",
        "# Create any of the Image Processing Projects using Numpy and OpenCV.(Projects done in the class are not accepted)\n",
        "# (One can use the haarcasacde models if necessary)\n",
        "\n",
        "#                                          (OR)\n",
        "# Choose any dataset of your choice and apply K Means Clustering ."
      ],
      "metadata": {
        "id": "nhsUIWso83bo"
      },
      "execution_count": null,
      "outputs": []
    },
    {
      "cell_type": "code",
      "source": [
        "#We CREATE OUR OWN DATASET\n",
        "import numpy as np\n",
        "experience = np.random.randint(35,65,100)#It will print numbers from 1 to 101\n",
        "np.random.seed(35)\n",
        "#random.seed keep my values constant\n",
        "salary = np.random.randint(20000,100000,100)\n",
        "salary = np.sort(salary)\n",
        "print(experience)\n",
        "print(salary)"
      ],
      "metadata": {
        "colab": {
          "base_uri": "https://localhost:8080/"
        },
        "id": "2K8ZHjDpzKG1",
        "outputId": "40836a78-5dc4-49b2-df11-f7f8f825b8f4"
      },
      "execution_count": 333,
      "outputs": [
        {
          "output_type": "stream",
          "name": "stdout",
          "text": [
            "[61 46 49 50 35 48 39 62 50 37 56 35 58 50 40 59 53 35 57 51 47 59 35 57\n",
            " 39 51 42 64 42 54 45 51 54 42 50 43 43 41 62 61 62 48 40 47 64 47 48 40\n",
            " 54 40 54 51 64 60 37 61 64 41 48 63 57 47 39 39 38 55 49 46 48 41 49 39\n",
            " 40 37 56 42 60 54 43 62 41 50 52 64 41 57 52 36 58 49 47 59 49 56 53 59\n",
            " 63 44 63 61]\n",
            "[20564 21742 21946 22636 23203 24863 24888 25165 25267 25387 26845 27225\n",
            " 27404 30827 32304 32472 33661 35004 35277 35397 36068 36250 36361 38873\n",
            " 39128 39485 39705 39972 40058 40268 41589 41731 41911 42067 42636 42747\n",
            " 44242 45051 45918 46003 47605 48844 48871 49053 51550 52628 55560 55694\n",
            " 56068 57086 58168 58435 58441 60943 61490 61911 62226 62394 63260 65702\n",
            " 65943 66236 66250 66941 67276 67670 68161 68763 70848 70850 71831 72674\n",
            " 74494 75215 76300 77392 78589 80271 80680 85502 87427 87454 87536 87537\n",
            " 90203 90518 91369 91389 92255 93389 94935 95826 96494 96949 97719 98277\n",
            " 98335 98682 99499 99672]\n"
          ]
        }
      ]
    },
    {
      "cell_type": "code",
      "source": [
        "type(experience)"
      ],
      "metadata": {
        "colab": {
          "base_uri": "https://localhost:8080/"
        },
        "id": "ULGRhdig6J98",
        "outputId": "41917929-e70e-4c56-c861-88e8a8f2a70c"
      },
      "execution_count": 334,
      "outputs": [
        {
          "output_type": "execute_result",
          "data": {
            "text/plain": [
              "numpy.ndarray"
            ]
          },
          "metadata": {},
          "execution_count": 334
        }
      ]
    },
    {
      "cell_type": "code",
      "source": [
        "#creating datframe\n",
        "import pandas as pd\n",
        "df=pd.DataFrame()"
      ],
      "metadata": {
        "id": "hKX5y9o66ljz"
      },
      "execution_count": 335,
      "outputs": []
    },
    {
      "cell_type": "code",
      "source": [
        "df[\"experience\"]=experience\n",
        "df[\"salary\"]=salary"
      ],
      "metadata": {
        "id": "tUjBMVFp68Rj"
      },
      "execution_count": 336,
      "outputs": []
    },
    {
      "cell_type": "code",
      "source": [
        "df"
      ],
      "metadata": {
        "colab": {
          "base_uri": "https://localhost:8080/",
          "height": 424
        },
        "id": "92HBPiRy7-IL",
        "outputId": "bfceed48-e995-4b5c-f1c5-db8d090a1672"
      },
      "execution_count": 337,
      "outputs": [
        {
          "output_type": "execute_result",
          "data": {
            "text/plain": [
              "    experience  salary\n",
              "0           61   20564\n",
              "1           46   21742\n",
              "2           49   21946\n",
              "3           50   22636\n",
              "4           35   23203\n",
              "..         ...     ...\n",
              "95          59   98277\n",
              "96          63   98335\n",
              "97          44   98682\n",
              "98          63   99499\n",
              "99          61   99672\n",
              "\n",
              "[100 rows x 2 columns]"
            ],
            "text/html": [
              "\n",
              "  <div id=\"df-ea7c5c72-fa50-49f1-910a-3726e2ab2bf0\">\n",
              "    <div class=\"colab-df-container\">\n",
              "      <div>\n",
              "<style scoped>\n",
              "    .dataframe tbody tr th:only-of-type {\n",
              "        vertical-align: middle;\n",
              "    }\n",
              "\n",
              "    .dataframe tbody tr th {\n",
              "        vertical-align: top;\n",
              "    }\n",
              "\n",
              "    .dataframe thead th {\n",
              "        text-align: right;\n",
              "    }\n",
              "</style>\n",
              "<table border=\"1\" class=\"dataframe\">\n",
              "  <thead>\n",
              "    <tr style=\"text-align: right;\">\n",
              "      <th></th>\n",
              "      <th>experience</th>\n",
              "      <th>salary</th>\n",
              "    </tr>\n",
              "  </thead>\n",
              "  <tbody>\n",
              "    <tr>\n",
              "      <th>0</th>\n",
              "      <td>61</td>\n",
              "      <td>20564</td>\n",
              "    </tr>\n",
              "    <tr>\n",
              "      <th>1</th>\n",
              "      <td>46</td>\n",
              "      <td>21742</td>\n",
              "    </tr>\n",
              "    <tr>\n",
              "      <th>2</th>\n",
              "      <td>49</td>\n",
              "      <td>21946</td>\n",
              "    </tr>\n",
              "    <tr>\n",
              "      <th>3</th>\n",
              "      <td>50</td>\n",
              "      <td>22636</td>\n",
              "    </tr>\n",
              "    <tr>\n",
              "      <th>4</th>\n",
              "      <td>35</td>\n",
              "      <td>23203</td>\n",
              "    </tr>\n",
              "    <tr>\n",
              "      <th>...</th>\n",
              "      <td>...</td>\n",
              "      <td>...</td>\n",
              "    </tr>\n",
              "    <tr>\n",
              "      <th>95</th>\n",
              "      <td>59</td>\n",
              "      <td>98277</td>\n",
              "    </tr>\n",
              "    <tr>\n",
              "      <th>96</th>\n",
              "      <td>63</td>\n",
              "      <td>98335</td>\n",
              "    </tr>\n",
              "    <tr>\n",
              "      <th>97</th>\n",
              "      <td>44</td>\n",
              "      <td>98682</td>\n",
              "    </tr>\n",
              "    <tr>\n",
              "      <th>98</th>\n",
              "      <td>63</td>\n",
              "      <td>99499</td>\n",
              "    </tr>\n",
              "    <tr>\n",
              "      <th>99</th>\n",
              "      <td>61</td>\n",
              "      <td>99672</td>\n",
              "    </tr>\n",
              "  </tbody>\n",
              "</table>\n",
              "<p>100 rows × 2 columns</p>\n",
              "</div>\n",
              "      <button class=\"colab-df-convert\" onclick=\"convertToInteractive('df-ea7c5c72-fa50-49f1-910a-3726e2ab2bf0')\"\n",
              "              title=\"Convert this dataframe to an interactive table.\"\n",
              "              style=\"display:none;\">\n",
              "        \n",
              "  <svg xmlns=\"http://www.w3.org/2000/svg\" height=\"24px\"viewBox=\"0 0 24 24\"\n",
              "       width=\"24px\">\n",
              "    <path d=\"M0 0h24v24H0V0z\" fill=\"none\"/>\n",
              "    <path d=\"M18.56 5.44l.94 2.06.94-2.06 2.06-.94-2.06-.94-.94-2.06-.94 2.06-2.06.94zm-11 1L8.5 8.5l.94-2.06 2.06-.94-2.06-.94L8.5 2.5l-.94 2.06-2.06.94zm10 10l.94 2.06.94-2.06 2.06-.94-2.06-.94-.94-2.06-.94 2.06-2.06.94z\"/><path d=\"M17.41 7.96l-1.37-1.37c-.4-.4-.92-.59-1.43-.59-.52 0-1.04.2-1.43.59L10.3 9.45l-7.72 7.72c-.78.78-.78 2.05 0 2.83L4 21.41c.39.39.9.59 1.41.59.51 0 1.02-.2 1.41-.59l7.78-7.78 2.81-2.81c.8-.78.8-2.07 0-2.86zM5.41 20L4 18.59l7.72-7.72 1.47 1.35L5.41 20z\"/>\n",
              "  </svg>\n",
              "      </button>\n",
              "      \n",
              "  <style>\n",
              "    .colab-df-container {\n",
              "      display:flex;\n",
              "      flex-wrap:wrap;\n",
              "      gap: 12px;\n",
              "    }\n",
              "\n",
              "    .colab-df-convert {\n",
              "      background-color: #E8F0FE;\n",
              "      border: none;\n",
              "      border-radius: 50%;\n",
              "      cursor: pointer;\n",
              "      display: none;\n",
              "      fill: #1967D2;\n",
              "      height: 32px;\n",
              "      padding: 0 0 0 0;\n",
              "      width: 32px;\n",
              "    }\n",
              "\n",
              "    .colab-df-convert:hover {\n",
              "      background-color: #E2EBFA;\n",
              "      box-shadow: 0px 1px 2px rgba(60, 64, 67, 0.3), 0px 1px 3px 1px rgba(60, 64, 67, 0.15);\n",
              "      fill: #174EA6;\n",
              "    }\n",
              "\n",
              "    [theme=dark] .colab-df-convert {\n",
              "      background-color: #3B4455;\n",
              "      fill: #D2E3FC;\n",
              "    }\n",
              "\n",
              "    [theme=dark] .colab-df-convert:hover {\n",
              "      background-color: #434B5C;\n",
              "      box-shadow: 0px 1px 3px 1px rgba(0, 0, 0, 0.15);\n",
              "      filter: drop-shadow(0px 1px 2px rgba(0, 0, 0, 0.3));\n",
              "      fill: #FFFFFF;\n",
              "    }\n",
              "  </style>\n",
              "\n",
              "      <script>\n",
              "        const buttonEl =\n",
              "          document.querySelector('#df-ea7c5c72-fa50-49f1-910a-3726e2ab2bf0 button.colab-df-convert');\n",
              "        buttonEl.style.display =\n",
              "          google.colab.kernel.accessAllowed ? 'block' : 'none';\n",
              "\n",
              "        async function convertToInteractive(key) {\n",
              "          const element = document.querySelector('#df-ea7c5c72-fa50-49f1-910a-3726e2ab2bf0');\n",
              "          const dataTable =\n",
              "            await google.colab.kernel.invokeFunction('convertToInteractive',\n",
              "                                                     [key], {});\n",
              "          if (!dataTable) return;\n",
              "\n",
              "          const docLinkHtml = 'Like what you see? Visit the ' +\n",
              "            '<a target=\"_blank\" href=https://colab.research.google.com/notebooks/data_table.ipynb>data table notebook</a>'\n",
              "            + ' to learn more about interactive tables.';\n",
              "          element.innerHTML = '';\n",
              "          dataTable['output_type'] = 'display_data';\n",
              "          await google.colab.output.renderOutput(dataTable, element);\n",
              "          const docLink = document.createElement('div');\n",
              "          docLink.innerHTML = docLinkHtml;\n",
              "          element.appendChild(docLink);\n",
              "        }\n",
              "      </script>\n",
              "    </div>\n",
              "  </div>\n",
              "  "
            ]
          },
          "metadata": {},
          "execution_count": 337
        }
      ]
    },
    {
      "cell_type": "code",
      "source": [
        "#input\n",
        "x=df.values\n"
      ],
      "metadata": {
        "id": "NG0v9Pyg7Fcj"
      },
      "execution_count": 338,
      "outputs": []
    },
    {
      "cell_type": "code",
      "source": [
        "#3.VISUALISATION\n",
        "import matplotlib.pyplot as plt\n",
        "plt.scatter(df[\"experience\"],df[\"salary\"])"
      ],
      "metadata": {
        "colab": {
          "base_uri": "https://localhost:8080/",
          "height": 314
        },
        "id": "78T3jcVg6Lf9",
        "outputId": "8badaed1-4019-4043-c639-9c018066086c"
      },
      "execution_count": 339,
      "outputs": [
        {
          "output_type": "execute_result",
          "data": {
            "text/plain": [
              "<matplotlib.collections.PathCollection at 0x7f426c78dd90>"
            ]
          },
          "metadata": {},
          "execution_count": 339
        },
        {
          "output_type": "display_data",
          "data": {
            "text/plain": [
              "<Figure size 432x288 with 1 Axes>"
            ],
            "image/png": "[encoded data removed]"
          },
          "metadata": {}
        }
      ]
    },
    {
      "cell_type": "code",
      "source": [
        "#Here our main task is to find out the number of clusters(k)\n",
        "import numpy as np\n",
        "np.sqrt(100) # 100 is the total no of points\n",
        "#No of cluster - k\n",
        "#k value should not exceed the square root of the total no of points\n",
        "#Hence k value should be in the range of 2 to 100"
      ],
      "metadata": {
        "colab": {
          "base_uri": "https://localhost:8080/"
        },
        "id": "q7a-Ytfw2L3U",
        "outputId": "0d81321c-3eb6-49c7-ca1e-89e7445b4292"
      },
      "execution_count": 340,
      "outputs": [
        {
          "output_type": "execute_result",
          "data": {
            "text/plain": [
              "10.0"
            ]
          },
          "metadata": {},
          "execution_count": 340
        }
      ]
    },
    {
      "cell_type": "code",
      "source": [
        "#1.ELBOW METHOD\n",
        "from sklearn.cluster import KMeans\n",
        "k = range(2,11)# my range is in between 2 and 10\n",
        "\n",
        "sse = [] #blank list\n",
        "\n",
        "#for i in range(2,11):\n",
        "for i in k :\n",
        "  model_demo = KMeans(n_clusters = i,random_state = 0)\n",
        "  model_demo.fit(x)\n",
        "  sse.append(model_demo.inertia_)#.inertia_ - calculates the sum of squared error\n",
        "plt.scatter(k,sse)\n",
        "plt.plot(k,sse)"
      ],
      "metadata": {
        "colab": {
          "base_uri": "https://localhost:8080/",
          "height": 314
        },
        "id": "v-0T3yPL2ney",
        "outputId": "f4492192-d752-436a-afaa-1457496ad775"
      },
      "execution_count": 341,
      "outputs": [
        {
          "output_type": "execute_result",
          "data": {
            "text/plain": [
              "[<matplotlib.lines.Line2D at 0x7f426c9fd090>]"
            ]
          },
          "metadata": {},
          "execution_count": 341
        },
        {
          "output_type": "display_data",
          "data": {
            "text/plain": [
              "<Figure size 432x288 with 1 Axes>"
            ],
            "image/png": "[encoded data removed]"
          },
          "metadata": {}
        }
      ]
    },
    {
      "cell_type": "code",
      "source": [
        "#We will now consider the point at which the eblow is more prominent(projecting from something)\n",
        "# We will consider k as 3 for now , but we are not sure"
      ],
      "metadata": {
        "id": "qcMXqeYZ2vf0"
      },
      "execution_count": 342,
      "outputs": []
    },
    {
      "cell_type": "code",
      "source": [
        "#2.SILHOUETTE SCORE METHOD\n",
        "from sklearn.metrics import silhouette_score\n",
        "k = range(2,11)\n",
        "for i in k:\n",
        "  model_demo = KMeans(n_clusters = i,random_state = 0)\n",
        "  model_demo.fit(x)\n",
        "  y_pred = model_demo.predict(x)\n",
        "  print(f\"{i} Clusters ,Score = {silhouette_score(x,y_pred)}\")\n",
        "  plt.bar(i,silhouette_score(x,y_pred))"
      ],
      "metadata": {
        "colab": {
          "base_uri": "https://localhost:8080/",
          "height": 453
        },
        "id": "HVA5h1052x-E",
        "outputId": "cbf0c5e9-3c1c-4d60-ed44-2f1e4350bab7"
      },
      "execution_count": 343,
      "outputs": [
        {
          "output_type": "stream",
          "name": "stdout",
          "text": [
            "2 Clusters ,Score = 0.619633346345987\n",
            "3 Clusters ,Score = 0.6369623468688296\n",
            "4 Clusters ,Score = 0.6163650615811903\n",
            "5 Clusters ,Score = 0.6027022890668868\n",
            "6 Clusters ,Score = 0.5753985545398819\n",
            "7 Clusters ,Score = 0.5700147619700908\n",
            "8 Clusters ,Score = 0.5878876635228644\n",
            "9 Clusters ,Score = 0.6186684995266593\n",
            "10 Clusters ,Score = 0.6054506522301313\n"
          ]
        },
        {
          "output_type": "display_data",
          "data": {
            "text/plain": [
              "<Figure size 432x288 with 1 Axes>"
            ],
            "image/png": "[encoded data removed]"
          },
          "metadata": {}
        }
      ]
    },
    {
      "cell_type": "code",
      "source": [
        "#CONFIRMATION : THE No OF CLUSTERS TO BE CONSIDERED IS 3."
      ],
      "metadata": {
        "id": "m8CpNaY924Pl"
      },
      "execution_count": 344,
      "outputs": []
    },
    {
      "cell_type": "code",
      "source": [
        "#7.APPLY CLUSTERER\n",
        "k = 3\n",
        "from sklearn.cluster import KMeans\n",
        "\n",
        "model = KMeans(n_clusters = k,random_state = 0)\n",
        "model.fit(x)"
      ],
      "metadata": {
        "colab": {
          "base_uri": "https://localhost:8080/"
        },
        "id": "iqo3HqpI26pD",
        "outputId": "19a8f651-c5f8-4056-a31d-def6ed2aadba"
      },
      "execution_count": 345,
      "outputs": [
        {
          "output_type": "execute_result",
          "data": {
            "text/plain": [
              "KMeans(n_clusters=3, random_state=0)"
            ]
          },
          "metadata": {},
          "execution_count": 345
        }
      ]
    },
    {
      "cell_type": "code",
      "source": [
        "y = model.predict(x) # predicted output\n",
        "y"
      ],
      "metadata": {
        "colab": {
          "base_uri": "https://localhost:8080/"
        },
        "id": "1jjVDS-e3AIM",
        "outputId": "a9b8b3ea-d2e8-4b44-f825-7d2abcb4efc9"
      },
      "execution_count": 346,
      "outputs": [
        {
          "output_type": "execute_result",
          "data": {
            "text/plain": [
              "array([1, 1, 1, 1, 1, 1, 1, 1, 1, 1, 1, 1, 1, 1, 1, 1, 1, 1, 1, 1, 1, 1,\n",
              "       1, 1, 1, 1, 1, 1, 1, 1, 1, 1, 1, 1, 1, 1, 1, 1, 1, 1, 1, 1, 1, 1,\n",
              "       0, 0, 0, 0, 0, 0, 0, 0, 0, 0, 0, 0, 0, 0, 0, 0, 0, 0, 0, 0, 0, 0,\n",
              "       0, 0, 0, 0, 0, 0, 0, 0, 0, 0, 0, 2, 2, 2, 2, 2, 2, 2, 2, 2, 2, 2,\n",
              "       2, 2, 2, 2, 2, 2, 2, 2, 2, 2, 2, 2], dtype=int32)"
            ]
          },
          "metadata": {},
          "execution_count": 346
        }
      ]
    },
    {
      "cell_type": "code",
      "source": [
        "y.size"
      ],
      "metadata": {
        "colab": {
          "base_uri": "https://localhost:8080/"
        },
        "id": "-GFddBiu3CQb",
        "outputId": "3d62fd27-c46e-4dca-a19f-664bdf1210c2"
      },
      "execution_count": 347,
      "outputs": [
        {
          "output_type": "execute_result",
          "data": {
            "text/plain": [
              "100"
            ]
          },
          "metadata": {},
          "execution_count": 347
        }
      ]
    },
    {
      "cell_type": "code",
      "source": [
        "np.unique(y,return_counts = True)"
      ],
      "metadata": {
        "colab": {
          "base_uri": "https://localhost:8080/"
        },
        "id": "_IzMgbiA3CvL",
        "outputId": "a2365da9-84d6-4cec-95d3-e25859aceb7f"
      },
      "execution_count": 348,
      "outputs": [
        {
          "output_type": "execute_result",
          "data": {
            "text/plain": [
              "(array([0, 1, 2], dtype=int32), array([33, 44, 23]))"
            ]
          },
          "metadata": {},
          "execution_count": 348
        }
      ]
    },
    {
      "cell_type": "code",
      "source": [
        "x[y == 1,1]\n",
        "#so the first '1' is cluster no 1 and the second '1' is column index 1 \n",
        "#the value of input,when cluster 1 is selected and column index 1 selected"
      ],
      "metadata": {
        "colab": {
          "base_uri": "https://localhost:8080/"
        },
        "id": "B_wU4a3c3MmF",
        "outputId": "efb83ac1-7b41-4526-d797-34fe7c15fc9a"
      },
      "execution_count": 349,
      "outputs": [
        {
          "output_type": "execute_result",
          "data": {
            "text/plain": [
              "array([20564, 21742, 21946, 22636, 23203, 24863, 24888, 25165, 25267,\n",
              "       25387, 26845, 27225, 27404, 30827, 32304, 32472, 33661, 35004,\n",
              "       35277, 35397, 36068, 36250, 36361, 38873, 39128, 39485, 39705,\n",
              "       39972, 40058, 40268, 41589, 41731, 41911, 42067, 42636, 42747,\n",
              "       44242, 45051, 45918, 46003, 47605, 48844, 48871, 49053])"
            ]
          },
          "metadata": {},
          "execution_count": 349
        }
      ]
    },
    {
      "cell_type": "code",
      "source": [
        "np.unique(y,return_counts = True)"
      ],
      "metadata": {
        "colab": {
          "base_uri": "https://localhost:8080/"
        },
        "id": "9KhPMPaf8VRT",
        "outputId": "c2188fa3-bc4c-4e85-9583-7b6b7c03fb6d"
      },
      "execution_count": 350,
      "outputs": [
        {
          "output_type": "execute_result",
          "data": {
            "text/plain": [
              "(array([0, 1, 2], dtype=int32), array([33, 44, 23]))"
            ]
          },
          "metadata": {},
          "execution_count": 350
        }
      ]
    },
    {
      "cell_type": "code",
      "source": [
        "#FINAL VISUALISATION\n",
        "plt.figure(figsize = (10,5))\n",
        "for i in range(k):\n",
        "  plt.scatter(x[y == i,0],x[y == i,1],label = f'Cluster {i}')\n",
        "plt.scatter(model.cluster_centers_[:,0],model.cluster_centers_[:,1],s = 300,c = 'yellow',\n",
        "            label = 'Centroids')\n",
        "plt.legend()"
      ],
      "metadata": {
        "colab": {
          "base_uri": "https://localhost:8080/",
          "height": 386
        },
        "id": "SwV6TWcN8VwT",
        "outputId": "493b7c3b-76ea-4e9c-9519-47d95873a243"
      },
      "execution_count": 351,
      "outputs": [
        {
          "output_type": "execute_result",
          "data": {
            "text/plain": [
              "<matplotlib.legend.Legend at 0x7f426cce8350>"
            ]
          },
          "metadata": {},
          "execution_count": 351
        },
        {
          "output_type": "display_data",
          "data": {
            "text/plain": [
              "<Figure size 720x360 with 1 Axes>"
            ],
            "image/png": "[encoded data removed]"
          },
          "metadata": {}
        }
      ]
    }
  ]
}